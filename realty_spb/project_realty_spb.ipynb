{
 "cells": [
  {
   "cell_type": "markdown",
   "id": "87cd1edc",
   "metadata": {},
   "source": [
    "# Анализ рынка недвижимости в Санкт-Петербурге\n",
    "\n",
    "**Цель:** Определить рыночную стоимость объектов недвижимости и типичные параметры квартир, которые влияют на стоимость\n",
    "\n",
    "**Описание:** На основе архива данных провести исследование объявлений о продаже квартир. Результатом исследования должны стать выводы о рыночной стоимости недвижимости. Для этого необходимо отсечь аномальные значения и проверить предоставленные данные.\n",
    "\n",
    "---\n",
    "Для исследования использовал данные сервисов Яндекс.Недвижимость.\n",
    "\n",
    "---\n",
    "В работе использовал библиотеки pandas, matplotlib, seaborn"
   ]
  },
  {
   "cell_type": "markdown",
   "id": "b2adf4df",
   "metadata": {},
   "source": [
    "### Содержание\n",
    "[1. Загрузка данных](#загрузка-данных)\n",
    "\n",
    "[2. Предобработка данных](#предобработка-данных)\n",
    "- [Пропуски в столбцах](#пропуски)\n",
    "- [Изменим тип данных](#изменим-тип-данных)\n",
    "- [Аномальные значения и выбросы](#аномальные-значения-и-выбросы)\n",
    "- [Неявные дубликаты](#неявные-дубликаты)\n",
    "\n",
    "[3. Расчёты и добавление результатов в таблицу](#расчёты)\n",
    "\n",
    "[4. Исследовательский анализ данных](#исследовательский-анализ-данных)\n",
    "- [Изучим параметры квартир](#изучим-параметры-квартир)\n",
    "- [Выводы по гистограммам](#выводы-по-гистограммам)\n",
    "- [Изучим время продажи квартир](#изучим-время-продажи)\n",
    "- [Какие факторы влияют на цену квартиры](#факторы-влияют-на-цену)\n",
    "- [10 населённых пунктов с наибольшим числом объявлений](#10-населённых-пунктов)\n",
    "- [Предложения квартира в центрально части Санкт-Петербурга](#центр-санкт-петербург)\n",
    "\n",
    "[5. Общие выводы по проекту](#общий-вывод)"
   ]
  },
  {
   "cell_type": "markdown",
   "id": "da81ff61",
   "metadata": {},
   "source": [
    "## <a id=\"загрузка-данных\">1. Загрузка данных из файла</a>"
   ]
  },
  {
   "cell_type": "code",
   "execution_count": null,
   "id": "e8b07ac9",
   "metadata": {},
   "outputs": [],
   "source": [
    "# подключаем библиотеки\n",
    "import pandas as pd\n",
    "import matplotlib.pyplot as plt\n",
    "import seaborn as sns\n",
    "import math\n",
    "from datetime import datetime"
   ]
  },
  {
   "cell_type": "code",
   "execution_count": null,
   "id": "a4d3dff6",
   "metadata": {},
   "outputs": [],
   "source": [
    "# загружаем данные\n",
    "try:\n",
    "    data = pd.read_csv('real_estate_data.csv')\n",
    "except:\n",
    "    data = pd.read_csv('/datasets/real_estate_data.csv')"
   ]
  },
  {
   "cell_type": "code",
   "execution_count": null,
   "id": "369aff61",
   "metadata": {},
   "outputs": [],
   "source": [
    "# посмотим на данные\n",
    "data.info()\n",
    "data.head()"
   ]
  },
  {
   "cell_type": "markdown",
   "id": "30cc229e",
   "metadata": {},
   "source": [
    "Видим, что данные склеились и их невозможно оценить. Разделим данные."
   ]
  },
  {
   "cell_type": "code",
   "execution_count": null,
   "id": "f530c17e",
   "metadata": {},
   "outputs": [],
   "source": [
    "#Разделим данные из файла на столбцы\n",
    "#Разделить в данном случае \"\\t\"\n",
    "try:\n",
    "    data = pd.read_csv('real_estate_data.csv', sep='\\t')\n",
    "except:\n",
    "    data = pd.read_csv('/datasets/real_estate_data.csv', sep='\\t')"
   ]
  },
  {
   "cell_type": "code",
   "execution_count": null,
   "id": "129de0cb",
   "metadata": {},
   "outputs": [],
   "source": [
    "# выведем данные\n",
    "print(data.head())\n",
    "print(data.info())"
   ]
  },
  {
   "cell_type": "code",
   "execution_count": null,
   "id": "c6bcae8f",
   "metadata": {},
   "outputs": [],
   "source": [
    "#Скопируем исходный датасет, чтоб иметь возможность сравнить с тем, что получится после фильтрации\n",
    "data_raw = data.copy()"
   ]
  },
  {
   "cell_type": "markdown",
   "id": "68d498cb",
   "metadata": {},
   "source": [
    "**Промежуточные итоги:**\n",
    "- Разделили \"склеенные\" столбцы\n",
    "- В данных имеются пропуски\n",
    "- В некоторых столбцах не подходящий тип данных"
   ]
  },
  {
   "cell_type": "markdown",
   "id": "b64c9d2b",
   "metadata": {},
   "source": [
    "## <a id=\"предобработка-данных\">2. Предобработка данных</a>"
   ]
  },
  {
   "cell_type": "markdown",
   "id": "92124e66",
   "metadata": {},
   "source": [
    "<a id=\"пропуски\">**Пропуски в столбцах**</a>\n",
    "\n",
    "**ceiling_height** - высота потолков. Скорее всего она зависит от количества этажей в доме floors_total. В столбце floors_total тоже имеются пропуски. Поэтому сначала заполним пропуски в floors_total и потом в ceiling_height.\n",
    "\n",
    "**floors_total** общее число этаже в доме скорее всего типично для одного населенного пункта. Заполним пропуски медианным значениями в зависимости от населённого пункта из столбца locality_name.\n",
    "\n",
    "В столбце **locality_name** есть пропуски. Для задачи нам важно где продаётся квартира, поэтому эти пропуски нужно либо заполнить либо убрать, чтоб анализ был верным. Так как эти пропуски невозможно заполнить, удалим строки с этими пропусками."
   ]
  },
  {
   "cell_type": "code",
   "execution_count": null,
   "id": "29b9532e",
   "metadata": {},
   "outputs": [],
   "source": [
    "# Удалим строки с пропускми в столбце locality_name\n",
    "\n",
    "data = data.dropna(subset=['locality_name'])"
   ]
  },
  {
   "cell_type": "code",
   "execution_count": null,
   "id": "c4857c13",
   "metadata": {},
   "outputs": [],
   "source": [
    "# Заполним пропуски в floors_total медианным значением в зависимости от населённого пункта\n",
    "# В цикле перебираем названием населённых пунктов и берём медианно значение количества этажей\n",
    "\n",
    "for locality_name in data['locality_name'].unique():\n",
    "    data.loc[data['locality_name'] == locality_name, 'floors_total'] = data.loc[data['locality_name'] == locality_name, 'floors_total'].fillna(data['floors_total'].median())"
   ]
  },
  {
   "cell_type": "code",
   "execution_count": null,
   "id": "48e2e321",
   "metadata": {},
   "outputs": [],
   "source": [
    "# Заполним пропуски в ceiling_height в зависимости от количества этажей медианным значением\n",
    "# В цикле перебираем количество этажей и присваем медианное значение для высоты потолков\n",
    "\n",
    "for floors_total in data['floors_total'].unique():\n",
    "    data.loc[data['floors_total'] == floors_total, 'ceiling_height'] = data.loc[data['floors_total'] == floors_total, 'ceiling_height'].fillna(data['ceiling_height'].median())"
   ]
  },
  {
   "cell_type": "markdown",
   "id": "11aface5",
   "metadata": {},
   "source": [
    "Пропуски в столбце **living_area**\n",
    "\n",
    "Может зависеть от количества комнат в квартире столбец rooms. Заполним пропуски в этом столбце"
   ]
  },
  {
   "cell_type": "code",
   "execution_count": null,
   "id": "e842fd77",
   "metadata": {},
   "outputs": [],
   "source": [
    "# Заполним пропуски в living_area мидеанным значениями в зависимости от количества комнат rooms\n",
    "\n",
    "for rooms in data['rooms'].unique():\n",
    "    data.loc[data['rooms'] == rooms, 'living_area'] = data.loc[data['rooms'] == rooms, 'living_area'].fillna(data['living_area'].median())"
   ]
  },
  {
   "cell_type": "markdown",
   "id": "4a0b468c",
   "metadata": {},
   "source": [
    "В столбце **is_apartment**\n",
    "\n",
    "Очень много пропусков. Столбец предполагает значения булевого типа. Возможно пользователи не заполняли его, т.е. если \"да\" - то заполняли, если \"нет\" - оставляли пустым. Поэтому заполним пропуски значением \"нет\"."
   ]
  },
  {
   "cell_type": "code",
   "execution_count": null,
   "id": "b8396298",
   "metadata": {},
   "outputs": [],
   "source": [
    "data['is_apartment'] = data['is_apartment'].fillna(False)"
   ]
  },
  {
   "cell_type": "markdown",
   "id": "694ee5c8",
   "metadata": {},
   "source": [
    "Пропуски в столбце **kitchen_area**\n",
    "\n",
    "Возможно связаны с тем, что квартира-студия и нет отдельной кухни. Поэтому не указана площадь кухни. Посчитаем количество студия и сравним с колиеством пропусков"
   ]
  },
  {
   "cell_type": "code",
   "execution_count": null,
   "id": "3337b7bc",
   "metadata": {},
   "outputs": [],
   "source": [
    "# посчитаем количество студий\n",
    "\n",
    "data['studio'].value_counts()"
   ]
  },
  {
   "cell_type": "markdown",
   "id": "1bc554eb",
   "metadata": {},
   "source": [
    "Количество студий 149, а пропусков kitchen_area больше\n",
    "\n",
    "Сначала проверим указана площадь кухни для студий"
   ]
  },
  {
   "cell_type": "code",
   "execution_count": null,
   "id": "4cc8774d",
   "metadata": {},
   "outputs": [],
   "source": [
    "# Посмотрим площадь кухни для студий\n",
    "\n",
    "data[data['studio'] == True]['kitchen_area'].unique()"
   ]
  },
  {
   "cell_type": "markdown",
   "id": "3c94a216",
   "metadata": {},
   "source": [
    "Для студии площадь кухни не указана, значит эти пропуски можно заменить на \"0\"\n",
    "\n",
    "А для квартир не студий заполним пропуски медианным значением"
   ]
  },
  {
   "cell_type": "code",
   "execution_count": null,
   "id": "b118d0f9",
   "metadata": {},
   "outputs": [],
   "source": [
    "#заполним пропуски для студий\n",
    "\n",
    "data.loc[data['studio'] == True,'kitchen_area'] = data.loc[data['studio'] == True,'kitchen_area'].fillna(0)"
   ]
  },
  {
   "cell_type": "code",
   "execution_count": null,
   "id": "1e913a00",
   "metadata": {},
   "outputs": [],
   "source": [
    "#заполним пропуски для остальных квартир\n",
    "\n",
    "data.loc[data['studio'] == False,'kitchen_area'] = data.loc[data['studio'] == False,'kitchen_area'].fillna(data['kitchen_area'].median())"
   ]
  },
  {
   "cell_type": "markdown",
   "id": "dc596967",
   "metadata": {},
   "source": [
    "Пропуски в столбце **balcony**\n",
    "\n",
    "Скорее всего связаны с тем, что при отсутсвии балкона поле не заполняли\n",
    "\n",
    "Поэтому заполним пропуски значеним \"0\""
   ]
  },
  {
   "cell_type": "code",
   "execution_count": null,
   "id": "8fcf1f5a",
   "metadata": {},
   "outputs": [],
   "source": [
    "# Заполним пропуски в столбце balcony\n",
    "data['balcony'] = data['balcony'].fillna(0)"
   ]
  },
  {
   "cell_type": "markdown",
   "id": "f6058796",
   "metadata": {},
   "source": [
    "Пропуски в столбце **airports_nearest**\n",
    "\n",
    "Можно заполнить медианным значением, учитвая в каком населённом пункте находится квартира"
   ]
  },
  {
   "cell_type": "code",
   "execution_count": null,
   "id": "f6d2f708",
   "metadata": {},
   "outputs": [],
   "source": [
    "# Заполним расстояние до ближайшего аэропорта медианными значениями, учитывая населённый пункт\n",
    "\n",
    "for locality_name in data['locality_name'].unique():\n",
    "    data.loc[data['locality_name'] == locality_name, 'airports_nearest'] = data.loc[data['locality_name'] == locality_name, 'airports_nearest'].fillna(data['airports_nearest'].median())"
   ]
  },
  {
   "cell_type": "markdown",
   "id": "d0b1f7d0",
   "metadata": {},
   "source": [
    "Пропуски в **cityCenters_nearest, parks_around3000, parks_nearest, ponds_around3000, ponds_nearest**\n",
    "\n",
    "Вероятно эти пропуски связанны с тем, что далеко не все населённые пункты являются крупными и нет понятия \"центр города\". Возможно поблизости нет парков и водоёмов. Эти значения невозможно заменить логически, поэтому в пропуски поставим значение \"0\"."
   ]
  },
  {
   "cell_type": "code",
   "execution_count": null,
   "id": "e4b218b8",
   "metadata": {},
   "outputs": [],
   "source": [
    "# Заменим пропуски в столбцах на значение \"0\"\n",
    "# Создадим список и в цикле заменим значения\n",
    "\n",
    "for index in {'cityCenters_nearest', 'parks_around3000', 'parks_nearest', 'ponds_around3000', 'ponds_nearest'}:\n",
    "    data[index] = data[index].fillna(0)"
   ]
  },
  {
   "cell_type": "markdown",
   "id": "88ba6b4c",
   "metadata": {},
   "source": [
    "Пропуски в **days_exposition**\n",
    "\n",
    "Количество дней показа до момента снятия объявления. Вероятно пропуски связанны с тем, что объявление не было снято на момент выгрузки данных в файл. Поэтому заполним пропуски как разницу между текущей датой и первым днём публикации."
   ]
  },
  {
   "cell_type": "code",
   "execution_count": null,
   "id": "6492a4b2",
   "metadata": {
    "scrolled": false
   },
   "outputs": [],
   "source": [
    "# Переведём столбец first_day_exposition в формат даты\n",
    "\n",
    "data['first_day_exposition'] = pd.to_datetime(data['first_day_exposition'], format='%Y-%m-%d %H:%M')"
   ]
  },
  {
   "cell_type": "code",
   "execution_count": null,
   "id": "9c9b2581",
   "metadata": {},
   "outputs": [],
   "source": [
    "#Напишем функцию для Заполния пропусков значением \"текущаяя дата - дата публикции\"\n",
    "\n",
    "def days_exposition(wtday):\n",
    "    first_day_exposition = wtday['first_day_exposition']\n",
    "    days_exposition = wtday['days_exposition']\n",
    "    if math.isnan(days_exposition):\n",
    "        return (datetime.now() - first_day_exposition).days\n",
    "    else:\n",
    "        return days_exposition"
   ]
  },
  {
   "cell_type": "code",
   "execution_count": null,
   "id": "759b2a7c",
   "metadata": {},
   "outputs": [],
   "source": [
    "#Заполним пропуски\n",
    "data['days_exposition'] = data.apply(days_exposition, axis=1)"
   ]
  },
  {
   "cell_type": "code",
   "execution_count": null,
   "id": "45077621",
   "metadata": {},
   "outputs": [],
   "source": [
    "# Проверим все ли пропуски были убраны\n",
    "data.info()"
   ]
  },
  {
   "cell_type": "markdown",
   "id": "5ea2ab7a",
   "metadata": {},
   "source": [
    "Все пропуски обработаны, пропусков больше нет. В процессе обработки в некоторых столбцах был изменён тип данных.\n"
   ]
  },
  {
   "cell_type": "markdown",
   "id": "d5ce5634",
   "metadata": {},
   "source": [
    "<a id=\"изменим-тип-данных\">**Изменим тип данных в столбцах**</a>\n",
    "\n",
    "Где это будет более логично и удобно для дальнейшей работы с данными"
   ]
  },
  {
   "cell_type": "code",
   "execution_count": null,
   "id": "2aef2123",
   "metadata": {},
   "outputs": [],
   "source": [
    "# Изменим тип данных в столбце floors_total так как тут подразумевается целое число этажей\n",
    "\n",
    "data['floors_total'] = data['floors_total'].astype('int')"
   ]
  },
  {
   "cell_type": "code",
   "execution_count": null,
   "id": "7558bc3f",
   "metadata": {},
   "outputs": [],
   "source": [
    "# Изменим тип данных в столбце days_exposition на целые числа, так как речь идёт о днях\n",
    "\n",
    "data['days_exposition'] = data['days_exposition'].astype('int')"
   ]
  },
  {
   "cell_type": "code",
   "execution_count": null,
   "id": "c24f363e",
   "metadata": {},
   "outputs": [],
   "source": [
    "# изменим тип данных в столбце balcony на целочисленный\n",
    "data['balcony'] = data['balcony'].astype('int')"
   ]
  },
  {
   "cell_type": "markdown",
   "id": "43f20915",
   "metadata": {},
   "source": [
    "<a id=\"аномальные-значения-и-выбросы\">**Аномальные значения и выбросы**</a>\n",
    "\n",
    "Проверим весь датафрейм на аномальные значения с помощью метода .describe()"
   ]
  },
  {
   "cell_type": "code",
   "execution_count": null,
   "id": "7413f76f",
   "metadata": {
    "scrolled": true
   },
   "outputs": [],
   "source": [
    "data.describe()"
   ]
  },
  {
   "cell_type": "markdown",
   "id": "8feca295",
   "metadata": {},
   "source": [
    "Данные в этих столбцах содержат аномальные значения. Так как эти данные будут в дальнейшем учитываться в анализе, то аномальные значения удалим.\n",
    "\n",
    "**total_area** - среднее не сильно отличается от медианы, минимальное значение допустимо, а вот максимальное значение и стандартное отклонение говорит о наличии аномальных значений.\n",
    "\n",
    "**rooms** - максимальное значение говорит о наличии аномальных значений.\n",
    "\n",
    "**ceiling_height** - максимальное и минимальные значения говорит о налии аномальных значений.\n",
    "\n",
    "**floors_total** - стандартное отклонение и максимальное значение говорят о наличии аномальных значений\n",
    "\n",
    "**living_area** - стандартное отклонение, минимальное и максимальные значения говорят об аномальных значениях\n",
    "\n",
    "**kitchen_area** - стандартное отклонение и максимальное значение говорят о наличии аномальных значений\n",
    "\n",
    "**last_price** - в максимальных и минимальных значениях видно, что есть аномальные значения"
   ]
  },
  {
   "cell_type": "code",
   "execution_count": null,
   "id": "495e654a",
   "metadata": {
    "scrolled": false
   },
   "outputs": [],
   "source": [
    "# Построим гистограмму распредения цен в столбце last_price\n",
    "\n",
    "data['last_price'].hist(bins=300)"
   ]
  },
  {
   "cell_type": "markdown",
   "id": "3d312c1e",
   "metadata": {},
   "source": [
    "В столбце last_price есть аномально маленькое значение и анамально большое. На гистограмме видим, что оосновная часть данных до 50 млн рублей. Отсечём данные больше 50 млн. рублей. И посмотрим сколько квартир до 1 000 000 руб. и сделаем отсечку минимальной цены."
   ]
  },
  {
   "cell_type": "code",
   "execution_count": null,
   "id": "68f00a25",
   "metadata": {
    "scrolled": true
   },
   "outputs": [],
   "source": [
    "data['last_price'].hist(bins=300, figsize=(10, 3), range=(0,1000000))"
   ]
  },
  {
   "cell_type": "code",
   "execution_count": null,
   "id": "284358ad",
   "metadata": {},
   "outputs": [],
   "source": [
    "# Сделаем срез данных больше 600 тысяч и меньше 50 млн\n",
    "\n",
    "data = data.query('last_price<=50000000 and last_price>600000')"
   ]
  },
  {
   "cell_type": "code",
   "execution_count": null,
   "id": "4031630d",
   "metadata": {
    "scrolled": true
   },
   "outputs": [],
   "source": [
    "# Построим гистограмму, чтоб найти аномальные значения площади\n",
    "\n",
    "data['total_area'].hist(bins=100, figsize=(10, 3))"
   ]
  },
  {
   "cell_type": "markdown",
   "id": "c27d1df6",
   "metadata": {},
   "source": [
    "На гистограмме видно, что до 300 квадратных метров квартиры есть и не одна. Но дальше от 300 - это по всей вероятности единичные объявления и вероятно с неверными значениями."
   ]
  },
  {
   "cell_type": "code",
   "execution_count": null,
   "id": "f0d8ba29",
   "metadata": {},
   "outputs": [],
   "source": [
    "# Сделаем срез по столбцу 'total_area', где оставим только значения меньше 300\n",
    "\n",
    "data = data.query('total_area<=300')"
   ]
  },
  {
   "cell_type": "code",
   "execution_count": null,
   "id": "649c846c",
   "metadata": {
    "scrolled": true
   },
   "outputs": [],
   "source": [
    "# Найдём аномалии в количестве комнат\n",
    "\n",
    "data['rooms'].hist(bins=100, figsize=(10, 3))"
   ]
  },
  {
   "cell_type": "markdown",
   "id": "6477c214",
   "metadata": {},
   "source": [
    "Так видно что количество комнат заканчивается на 7 и дальше видимо идут редки значения, которыми можно пренебречь"
   ]
  },
  {
   "cell_type": "code",
   "execution_count": null,
   "id": "ebbab3bb",
   "metadata": {
    "scrolled": false
   },
   "outputs": [],
   "source": [
    "# Сделаем срез по столбцу 'rooms', где оставим только значения меньше или раыне 7\n",
    "\n",
    "data = data.query('rooms<=7 and rooms>=0')"
   ]
  },
  {
   "cell_type": "code",
   "execution_count": null,
   "id": "5d77e946",
   "metadata": {},
   "outputs": [],
   "source": [
    "data.query('rooms==0')"
   ]
  },
  {
   "cell_type": "code",
   "execution_count": null,
   "id": "900be4a2",
   "metadata": {
    "scrolled": true
   },
   "outputs": [],
   "source": [
    "# Найдём аномалии в \"ceiling_height\"\n",
    "# Подберём диапозон значений, в котором будет лежать график, чтоб можно было рассмотреть значения\n",
    "\n",
    "data['ceiling_height'].hist(bins=100, figsize=(10, 3), range=(2, 5))"
   ]
  },
  {
   "cell_type": "markdown",
   "id": "0d2e22a9",
   "metadata": {},
   "source": [
    "Видим что значения лежат в  интервале от 2.5 до 4 метров. Сделаем такой срез, остальные удалим"
   ]
  },
  {
   "cell_type": "code",
   "execution_count": null,
   "id": "3119e2b3",
   "metadata": {},
   "outputs": [],
   "source": [
    "data = data.query('ceiling_height<=4 and ceiling_height>2.5')"
   ]
  },
  {
   "cell_type": "code",
   "execution_count": null,
   "id": "fe8c8d72",
   "metadata": {},
   "outputs": [],
   "source": [
    "# Посмтрим на значения \"floors_total\"\n",
    "\n",
    "data['floors_total'].hist(bins=100, figsize=(10, 3))"
   ]
  },
  {
   "cell_type": "code",
   "execution_count": null,
   "id": "235a29f2",
   "metadata": {},
   "outputs": [],
   "source": [
    "# Сделаем срез данных от 1 до 30 этажей\n",
    "\n",
    "data = data.query('floors_total<=30 and floors_total>=1')"
   ]
  },
  {
   "cell_type": "code",
   "execution_count": null,
   "id": "4756bcb9",
   "metadata": {
    "scrolled": true
   },
   "outputs": [],
   "source": [
    "# Посмтрим на значения \"living_area\"\n",
    "\n",
    "data['living_area'].hist(bins=100, figsize=(10, 3), range=(15, 170))"
   ]
  },
  {
   "cell_type": "code",
   "execution_count": null,
   "id": "ae55bd5f",
   "metadata": {},
   "outputs": [],
   "source": [
    "# Сделаем срез данных от 10 до 160\n",
    "\n",
    "data = data.query('living_area>=10 and living_area<=160')"
   ]
  },
  {
   "cell_type": "code",
   "execution_count": null,
   "id": "5dfeadf7",
   "metadata": {
    "scrolled": false
   },
   "outputs": [],
   "source": [
    "# Посмтрим на значения \"kitchen_area\"\n",
    "\n",
    "data['kitchen_area'].hist(bins=100, figsize=(10, 3), range=(1, 40))"
   ]
  },
  {
   "cell_type": "code",
   "execution_count": null,
   "id": "09c27b61",
   "metadata": {},
   "outputs": [],
   "source": [
    "#Сделаем срез данных от 4 до 40\n",
    "\n",
    "data = data.query('kitchen_area>=4 and kitchen_area<=40')"
   ]
  },
  {
   "cell_type": "markdown",
   "id": "65e75690",
   "metadata": {},
   "source": [
    "Сравним исходный датасет и тот, который получили в результате фильтрации"
   ]
  },
  {
   "cell_type": "code",
   "execution_count": null,
   "id": "a04b5127",
   "metadata": {
    "scrolled": false
   },
   "outputs": [],
   "source": [
    "print('Исходный датасет:')\n",
    "display(data_raw.describe())\n",
    "print('Отфильтрованый датасет:')\n",
    "display(data.describe())"
   ]
  },
  {
   "cell_type": "markdown",
   "id": "a2acc4d0",
   "metadata": {},
   "source": [
    "**Промежуточные итоги:**\n",
    "\n",
    "- Отфильтрованный датасет стал меньше на 4000 записей\n",
    "- По столбцам минимальные, максимальные и средние значения имеют меньший разброс\n",
    "- Удалили пустые строки, аномальные и нулевые значения"
   ]
  },
  {
   "cell_type": "markdown",
   "id": "ebe91489",
   "metadata": {},
   "source": [
    "<a id=\"неявные-дубликаты\">**Неявные дубликаты**</a>\n",
    "\n",
    "В столбце \"locality_name\" - название населённого пункта, могут быть неявные неявные дубликаты. Где-то написано название и тип населённого пункта, где-то только название. Сделаем, чтобы были только названия."
   ]
  },
  {
   "cell_type": "code",
   "execution_count": null,
   "id": "36e7be62",
   "metadata": {
    "scrolled": false
   },
   "outputs": [],
   "source": [
    "#Сбросим индексы, так как удаляли значения\n",
    "\n",
    "data = data.reset_index(drop=True)"
   ]
  },
  {
   "cell_type": "code",
   "execution_count": null,
   "id": "53cc1988",
   "metadata": {},
   "outputs": [],
   "source": [
    "# В цикле пройдём по значениям, разобъём каждое значение на слова и возьмём последнее в качестве названия\n",
    "\n",
    "for index in range(len(data['locality_name'])):\n",
    "    locality_name_str = data.loc[index, 'locality_name']\n",
    "    data.loc[index, 'locality_name'] = locality_name_str.split()[-1]"
   ]
  },
  {
   "cell_type": "code",
   "execution_count": null,
   "id": "5ea7662a",
   "metadata": {
    "scrolled": false
   },
   "outputs": [],
   "source": [
    "# Посмотрим как сработал алгоритм и какие остались значения\n",
    "\n",
    "data['locality_name'].unique()"
   ]
  },
  {
   "cell_type": "markdown",
   "id": "179c3681",
   "metadata": {},
   "source": [
    "## <a id=\"расчёты\">3. Расчёты и добавление результатов в таблицу</a>"
   ]
  },
  {
   "cell_type": "markdown",
   "id": "9448c3ba",
   "metadata": {},
   "source": [
    "В данном разделе проведём расчёты и добавим их в таблицу:\n",
    "- Цена квадратного метра;\n",
    "- День недели, месяц и год публикации объявления;\n",
    "- Этаж квартиры; варианты — первый, последний, другой;\n",
    "- Соотношение жилой и общей площади, а также отношение площади кухни к общей."
   ]
  },
  {
   "cell_type": "markdown",
   "id": "94245bac",
   "metadata": {},
   "source": [
    "**Стоимость квадратного метра**\n",
    "\n",
    "Рассчитаем по формуле \"Стоимость квартиры\" разделим на \"Общую площадь\""
   ]
  },
  {
   "cell_type": "code",
   "execution_count": null,
   "id": "42105db2",
   "metadata": {},
   "outputs": [],
   "source": [
    "# Добавим столбец metr_pice - стоимость квадратного метра\n",
    "# Рассчитывать стоимость квадратного метра\n",
    "\n",
    "data['metr_price'] = data['last_price'] / data['total_area']\n",
    "\n",
    "print(data['metr_price'].head(10))"
   ]
  },
  {
   "cell_type": "markdown",
   "id": "e2f2f4e8",
   "metadata": {},
   "source": [
    "Добавим столбец, в котором будет написан день недели публикации объявления"
   ]
  },
  {
   "cell_type": "code",
   "execution_count": null,
   "id": "be06a19c",
   "metadata": {},
   "outputs": [],
   "source": [
    "# Добавим столбец week_day_exposition - день недели публикации\n",
    "\n",
    "data['week_day_exposition'] = data['first_day_exposition'].dt.weekday"
   ]
  },
  {
   "cell_type": "code",
   "execution_count": null,
   "id": "0917bb79",
   "metadata": {},
   "outputs": [],
   "source": [
    "# Сделаем функцию, которая на выходе возвращает день недели\n",
    "\n",
    "def wd(day_number):\n",
    "    if day_number == 0:\n",
    "        return 'Понедельник'\n",
    "    if day_number == 1:\n",
    "        return 'Вторник'\n",
    "    if day_number == 2:\n",
    "        return 'Среда'\n",
    "    if day_number == 3:\n",
    "        return 'Четверг'\n",
    "    if day_number == 4:\n",
    "        return 'Пятница'\n",
    "    if day_number == 5:\n",
    "        return 'Суббота'\n",
    "    if day_number == 6:\n",
    "        return 'Воскресенье'"
   ]
  },
  {
   "cell_type": "code",
   "execution_count": null,
   "id": "b55091f1",
   "metadata": {},
   "outputs": [],
   "source": [
    "# Применим функцию к столбцу week_day_exposition и заменим цифры значеним дня недели\n",
    "\n",
    "data['week_day_exposition'] = data['week_day_exposition'].apply(wd)"
   ]
  },
  {
   "cell_type": "code",
   "execution_count": null,
   "id": "fd0710b6",
   "metadata": {},
   "outputs": [],
   "source": [
    "# Проверим как заполнился столбец\n",
    "\n",
    "data['week_day_exposition'].value_counts()"
   ]
  },
  {
   "cell_type": "markdown",
   "id": "33e52c90",
   "metadata": {},
   "source": [
    "Добавим столбец, в котором будет написан месяц публикации объявления"
   ]
  },
  {
   "cell_type": "code",
   "execution_count": null,
   "id": "e7d9c508",
   "metadata": {
    "scrolled": true
   },
   "outputs": [],
   "source": [
    "# Добавим столбец month_exposition - месяц публикации\n",
    "\n",
    "data['month_exposition'] = data['first_day_exposition'].dt.month"
   ]
  },
  {
   "cell_type": "code",
   "execution_count": null,
   "id": "67fb771a",
   "metadata": {},
   "outputs": [],
   "source": [
    "# Сделаем функцию, которая на выходе возвращает месяц\n",
    "\n",
    "def month(month_number):\n",
    "    if month_number == 1:\n",
    "        return 'Январь'\n",
    "    if month_number == 2:\n",
    "        return 'Февраль'\n",
    "    if month_number == 3:\n",
    "        return 'Март'\n",
    "    if month_number == 4:\n",
    "        return 'Апрель'\n",
    "    if month_number == 5:\n",
    "        return 'Май'\n",
    "    if month_number == 6:\n",
    "        return 'Июнь'\n",
    "    if month_number == 7:\n",
    "        return 'Июль'\n",
    "    if month_number == 8:\n",
    "        return 'Август'\n",
    "    if month_number == 9:\n",
    "        return 'Сентябрь'\n",
    "    if month_number == 10:\n",
    "        return 'Октябрь'\n",
    "    if month_number == 11:\n",
    "        return 'Ноябрь'\n",
    "    if month_number == 12:\n",
    "        return 'Декабрь'"
   ]
  },
  {
   "cell_type": "code",
   "execution_count": null,
   "id": "89a01aed",
   "metadata": {},
   "outputs": [],
   "source": [
    "# Применим функцию к столбцу month_exposition и заменим цифры значеним\n",
    "\n",
    "data['month_exposition'] = data['month_exposition'].apply(month)"
   ]
  },
  {
   "cell_type": "code",
   "execution_count": null,
   "id": "3998d56a",
   "metadata": {},
   "outputs": [],
   "source": [
    "# Добавим столбец, где будет год публикации объявления\n",
    "\n",
    "data['year_exposition'] = data['first_day_exposition'].dt.year"
   ]
  },
  {
   "cell_type": "code",
   "execution_count": null,
   "id": "46c9c78f",
   "metadata": {},
   "outputs": [],
   "source": [
    "# Проверим как заполнился столбец\n",
    "\n",
    "print(data['month_exposition'].value_counts())\n",
    "print(data['year_exposition'].value_counts())"
   ]
  },
  {
   "cell_type": "markdown",
   "id": "6ffb2d09",
   "metadata": {},
   "source": [
    "Добавим столбец в котором будет написан этаж: первый, последний или другой\n",
    "\n",
    "Назовём столбец floor_category"
   ]
  },
  {
   "cell_type": "code",
   "execution_count": null,
   "id": "b47408fa",
   "metadata": {},
   "outputs": [],
   "source": [
    "# Напишем функцию, которая определяет этаж и возвращает одно из трёх значений\n",
    "\n",
    "def floor_category(row):\n",
    "    if row['floor'] == 1:\n",
    "        return 'первый'\n",
    "    elif row['floor'] == row['floors_total']:\n",
    "        return 'последний'\n",
    "    else:\n",
    "        return'другой'"
   ]
  },
  {
   "cell_type": "code",
   "execution_count": null,
   "id": "044d2f21",
   "metadata": {},
   "outputs": [],
   "source": [
    "# Создади столбец floor_category и применим функцию, чтоб его заполнить\n",
    "\n",
    "data['floor_category'] = data.apply(floor_category, axis=1)"
   ]
  },
  {
   "cell_type": "code",
   "execution_count": null,
   "id": "14300fa1",
   "metadata": {},
   "outputs": [],
   "source": [
    "# Проверим заполнение столбца\n",
    "\n",
    "data['floor_category'].value_counts()"
   ]
  },
  {
   "cell_type": "markdown",
   "id": "11983740",
   "metadata": {},
   "source": [
    "Переведём расстояние до центра города в километры и округлим до целых значений"
   ]
  },
  {
   "cell_type": "code",
   "execution_count": null,
   "id": "1fd45b1a",
   "metadata": {},
   "outputs": [],
   "source": [
    "data['cityCenters_nearest_km'] = (data['cityCenters_nearest'] / 1000).round().astype('int')"
   ]
  },
  {
   "cell_type": "markdown",
   "id": "1ee5e2cc",
   "metadata": {},
   "source": [
    "## <a id=\"исследовательский-анализ-данных\">4. Исследовательский анализ данных</a>\n",
    "\n",
    "<a id=\"изучим-параметры-квартир\">**Изучим параметры квартир**</a>: \n",
    "- общая площадь; \n",
    "- жилая площадь; \n",
    "- площадь кухни; цена объекта; \n",
    "- количество комнат; \n",
    "- высота потолков; \n",
    "- этаж квартиры; \n",
    "- тип этажа квартиры («первый», «последний», «другой»); \n",
    "- общее количество этажей в доме; \n",
    "- расстояние до центра города в метрах; \n",
    "- расстояние до ближайшего аэропорта; \n",
    "- расстояние до ближайшего парка; \n",
    "- день и месяц публикации объявления.\n",
    "\n",
    "Построим гистограммы для кажого из параметров"
   ]
  },
  {
   "cell_type": "code",
   "execution_count": null,
   "id": "78177a0c",
   "metadata": {
    "scrolled": false
   },
   "outputs": [],
   "source": [
    "# Гистограмма для общей площади\n",
    "\n",
    "data['total_area'].hist(bins=100, figsize=(10, 5))"
   ]
  },
  {
   "cell_type": "code",
   "execution_count": null,
   "id": "f6d564b5",
   "metadata": {},
   "outputs": [],
   "source": [
    "# Гистограмма для жилой площади\n",
    "\n",
    "data['living_area'].hist(bins=100, figsize=(10, 5))"
   ]
  },
  {
   "cell_type": "code",
   "execution_count": null,
   "id": "eb0c04c0",
   "metadata": {},
   "outputs": [],
   "source": [
    "# Гистограмма для площади кухни\n",
    "\n",
    "data['kitchen_area'].hist(bins=100, figsize=(10, 5))"
   ]
  },
  {
   "cell_type": "code",
   "execution_count": null,
   "id": "23bea297",
   "metadata": {},
   "outputs": [],
   "source": [
    "# Гистограмма для цены квартиры\n",
    "\n",
    "data['last_price'].hist(bins=100, figsize=(10, 5))"
   ]
  },
  {
   "cell_type": "code",
   "execution_count": null,
   "id": "bd4a02be",
   "metadata": {
    "scrolled": false
   },
   "outputs": [],
   "source": [
    "# Гистограмма количества комнат\n",
    "\n",
    "data['rooms'].hist(bins=100, figsize=(10, 5))"
   ]
  },
  {
   "cell_type": "code",
   "execution_count": null,
   "id": "a61d8e4a",
   "metadata": {
    "scrolled": false
   },
   "outputs": [],
   "source": [
    "# Гистограмма высоты потолков\n",
    "\n",
    "data['ceiling_height'].hist(bins=100, figsize=(10, 5))"
   ]
  },
  {
   "cell_type": "code",
   "execution_count": null,
   "id": "751934c1",
   "metadata": {},
   "outputs": [],
   "source": [
    "# Гистограмма этажа квартиры\n",
    "\n",
    "data['floor'].hist(bins=100, figsize=(10, 5))"
   ]
  },
  {
   "cell_type": "code",
   "execution_count": null,
   "id": "d88169fb",
   "metadata": {
    "scrolled": false
   },
   "outputs": [],
   "source": [
    "# Гистограмма типа этажа квартиры\n",
    "\n",
    "data['floor_category'].hist()"
   ]
  },
  {
   "cell_type": "code",
   "execution_count": null,
   "id": "8455e9b5",
   "metadata": {
    "scrolled": false
   },
   "outputs": [],
   "source": [
    "# Гистограмма общего количества этажей\n",
    "\n",
    "data['floors_total'].hist(bins=100, figsize=(10, 5))"
   ]
  },
  {
   "cell_type": "code",
   "execution_count": null,
   "id": "aa44fbf0",
   "metadata": {
    "scrolled": false
   },
   "outputs": [],
   "source": [
    "# Гистограмма расстояния до центра города в метрах\n",
    "\n",
    "data['cityCenters_nearest'].hist(bins=100, figsize=(10, 5))"
   ]
  },
  {
   "cell_type": "code",
   "execution_count": null,
   "id": "da8224b0",
   "metadata": {
    "scrolled": false
   },
   "outputs": [],
   "source": [
    "# Гистограмма расстояние до аэропорта\n",
    "\n",
    "data['airports_nearest'].hist(bins=100, figsize=(10, 5))"
   ]
  },
  {
   "cell_type": "code",
   "execution_count": null,
   "id": "9fafb2cd",
   "metadata": {
    "scrolled": false
   },
   "outputs": [],
   "source": [
    "# Гистограмма расстояние до ближайшего парка\n",
    "\n",
    "data['parks_nearest'].hist(bins=100, figsize=(10, 5))"
   ]
  },
  {
   "cell_type": "code",
   "execution_count": null,
   "id": "bc6bc474",
   "metadata": {
    "scrolled": false
   },
   "outputs": [],
   "source": [
    "# Гистограмма день публикации объявления\n",
    "\n",
    "data['week_day_exposition'].hist(figsize=(10, 5))"
   ]
  },
  {
   "cell_type": "code",
   "execution_count": null,
   "id": "c01c3acc",
   "metadata": {
    "scrolled": false
   },
   "outputs": [],
   "source": [
    "# Гистограмма месяц публикации объявления\n",
    "\n",
    "data['month_exposition'].hist(figsize=(10, 5))"
   ]
  },
  {
   "cell_type": "markdown",
   "id": "31ef309a",
   "metadata": {},
   "source": [
    "<a id=\"выводы-по-гистограммам\">**Выводы на основе построенных гистограмм**</a>\n",
    "\n",
    "- В продаже больше всего квартир с площадью от 30 до 80 квадратных метров\n",
    "- Площадь кухни в большинстве случаев от 6 до 13 квадратных метров\n",
    "- График цены сильно смещён влево с большими пиками, что может говорить примерно об одинаковых цена на большую часть квартир\n",
    "- Больше всего на рынке представленны однокомнатные квартиры\n",
    "- Высота потолков в основном 2.65 м\n",
    "- Основная часть квартир в продаже находится с 1 по 5 этажи\n",
    "- Больше всего продаётся квартир в пятиэтажных домах\n",
    "- Много квартир, у которых расстояние до центра 0, вероятно эти квартиры расположены в центр\n",
    "- Меньше всего новых объявлений появляется в выходные, больше всего в чевтерг\n",
    "- В феврале и марте в продаже появлется больше всего квартир"
   ]
  },
  {
   "cell_type": "markdown",
   "id": "5d1f6e49",
   "metadata": {},
   "source": [
    "<a id=\"изучим-время-продажи\">**Изучим время продажи квартир**</a>\n",
    "\n",
    "Построим гистограмму по времени продажи"
   ]
  },
  {
   "cell_type": "code",
   "execution_count": null,
   "id": "8ab5b48a",
   "metadata": {
    "scrolled": false
   },
   "outputs": [],
   "source": [
    "data['days_exposition'].hist(bins=200, figsize=(10, 5))"
   ]
  },
  {
   "cell_type": "code",
   "execution_count": null,
   "id": "e4707aae",
   "metadata": {},
   "outputs": [],
   "source": [
    "# Посчитаем среднее и медианное время продажи\n",
    "\n",
    "print('Среднее время продажи квартиры составляет :', int(data['days_exposition'].mean()),'дней')\n",
    "print('Медианное время продажи квартиры составляет :', int(data['days_exposition'].median()),'дней')"
   ]
  },
  {
   "cell_type": "markdown",
   "id": "97f649fc",
   "metadata": {},
   "source": [
    "**Промежуточные выводы:**:\n",
    "- В основном квартира продаётся за 124 дня\n",
    "- Быстра продажа - это до 0 до 50 дней\n",
    "- Даже спустя 1500 дней квартиры продаются"
   ]
  },
  {
   "cell_type": "markdown",
   "id": "62b9a462",
   "metadata": {},
   "source": [
    "<a id=\"факторы-влияют-на-цену\">**Какие факторы влияют на стоимость квартиры**</a>\n",
    "\n",
    "Посмотрим зависит ли цена от общей площади, жилой площади, площади кухни, количества комнат, этажа, на котором расположена квартира (первый, последний, другой), даты размещения (день недели, месяц, год)."
   ]
  },
  {
   "cell_type": "code",
   "execution_count": null,
   "id": "95294164",
   "metadata": {},
   "outputs": [],
   "source": [
    "# График зависимости цены от общей площади\n",
    "\n",
    "fig, ax = plt.subplots(figsize=(10, 6))\n",
    "ax.scatter(x = data['total_area'], y = data['last_price'])"
   ]
  },
  {
   "cell_type": "code",
   "execution_count": null,
   "id": "6e67a58f",
   "metadata": {},
   "outputs": [],
   "source": [
    "# Зависимости цены от жилой площади\n",
    "\n",
    "data.pivot_table(index='living_area', values='last_price').plot(figsize=(10, 5))\n",
    "#Посмотрим коэфициент Пирсона\n",
    "print('коэфициент Пирсона для жилой площади и цены', data['living_area'].corr(data['last_price']))"
   ]
  },
  {
   "cell_type": "code",
   "execution_count": null,
   "id": "bfd45c2d",
   "metadata": {},
   "outputs": [],
   "source": [
    "# Зависимости цены от площади кухни\n",
    "\n",
    "data.pivot_table(index='kitchen_area', values='last_price').plot(figsize=(10, 5))\n",
    "#Посмотрим коэфициент Пирсона\n",
    "print('коэфициент Пирсона для площади кухни и цены', data['kitchen_area'].corr(data['last_price']))"
   ]
  },
  {
   "cell_type": "code",
   "execution_count": null,
   "id": "a8580600",
   "metadata": {},
   "outputs": [],
   "source": [
    "# Зависимость цены от количества комнат\n",
    "\n",
    "data.pivot_table(index='rooms', values='last_price').plot(figsize=(10, 5))\n",
    "#Посмотрим коэфициент Пирсона\n",
    "print('коэфициент Пирсона для количества комнат и цены', data['rooms'].corr(data['last_price']))"
   ]
  },
  {
   "cell_type": "code",
   "execution_count": null,
   "id": "c7e53915",
   "metadata": {},
   "outputs": [],
   "source": [
    "# Зависимость цены от категории этажа\n",
    "\n",
    "data.pivot_table(index='floor_category', values='last_price').plot(figsize=(10, 5))"
   ]
  },
  {
   "cell_type": "code",
   "execution_count": null,
   "id": "f8f87585",
   "metadata": {},
   "outputs": [],
   "source": [
    "# Зависимость цены от дня недели размещения объявления\n",
    "\n",
    "data.pivot_table(index='week_day_exposition', values='last_price').plot(figsize=(10, 5))"
   ]
  },
  {
   "cell_type": "code",
   "execution_count": null,
   "id": "479547c4",
   "metadata": {},
   "outputs": [],
   "source": [
    "# Зависимость цены от месяца размещения объявления\n",
    "\n",
    "data.pivot_table(index='month_exposition', values='last_price').plot(figsize=(10, 5))"
   ]
  },
  {
   "cell_type": "code",
   "execution_count": null,
   "id": "9f78ecce",
   "metadata": {},
   "outputs": [],
   "source": [
    "# Зависимость цены от года размещения объявления\n",
    "\n",
    "data.pivot_table(index='year_exposition', values='last_price').plot(figsize=(10, 5))"
   ]
  },
  {
   "cell_type": "markdown",
   "id": "c42f2b24",
   "metadata": {},
   "source": [
    "**Промежуточные выводы:**\n",
    "\n",
    "- Коэффициент Пирсона положительный, что говорит о линейно зависимости цены от площади кухни, общей площади и количества комнат\n",
    "- Цена квартиры, зависит от её площади и количества комнат\n",
    "- Самая низкая цена у квартир на первом этаже\n",
    "- Квартиры, размещенные в воскресенье с самой низкой ценой, а в четверг - с самой большой\n",
    "- В октябре самые низкие цены на квартиры, в августе и декабре - самые высокие\n",
    "- С 2014 года цены на квартиры падали, а с 2018 начался обратный рост цен"
   ]
  },
  {
   "cell_type": "markdown",
   "id": "cce4df33",
   "metadata": {},
   "source": [
    "<a id=\"10-населённых-пунктов\">**10 населённых пунктов с наибольшим числом объявлений**</a>\n",
    "\n",
    "Посчитайте среднюю цену одного квадратного метра в 10 населённых пунктах с наибольшим числом объявлений."
   ]
  },
  {
   "cell_type": "code",
   "execution_count": null,
   "id": "b8a45ecb",
   "metadata": {
    "scrolled": false
   },
   "outputs": [],
   "source": [
    "#Сделаем сводную таблицу, куда возьмём среднюю стоимость квадратного метра и количество объявлений\n",
    "#Запишем эту таблицу в новую переменную locality_top10\n",
    "locality_top10 = data.pivot_table(index='locality_name', values='metr_price', aggfunc=['mean', 'count'])\n",
    "\n",
    "#Переименуем столбцы mean_metr_price - средняя цена квадратного метра, count - количество объявлений\n",
    "locality_top10.columns = ['mean_metr_price', 'count']\n",
    "\n",
    "#Отсортируем и возьмём первые 10 с самым большим количеством объявлений\n",
    "locality_top10 = locality_top10.sort_values(by='count', ascending=False).head(10)\n",
    "print(locality_top10)\n",
    "\n",
    "#Найдём населённые пункты с самой низкой и самой высокой стоимостью\n",
    "print()\n",
    "print('Самая высокая стоимость квадратного метра:', locality_top10['mean_metr_price'].max())\n",
    "print('Самая низкая стоимость квадратного метра:', locality_top10['mean_metr_price'].min())"
   ]
  },
  {
   "cell_type": "markdown",
   "id": "28caf868",
   "metadata": {},
   "source": [
    "<a id=\"центр-санкт-петербург\">**Предложения квартир в центрально части Санкт-Петербурга**</a>\n",
    "\n",
    "- Выделим квартиры в Санкт-Петербурге\n",
    "- Вычислим среднюю цену киллометра до центра\n",
    "- Посмотрим, как зависит цена на объект недвижимости от расстояния до центра"
   ]
  },
  {
   "cell_type": "code",
   "execution_count": null,
   "id": "1bba7d20",
   "metadata": {},
   "outputs": [],
   "source": [
    "#Сделаем срез по Санкт-Петербургу и сохраним в переменную spb\n",
    "spb = data.loc[data['locality_name'] == 'Санкт-Петербург'].copy()\n",
    "\n",
    "#Рассчитаем стоимость километра до центра\n",
    "spb['price_km_center'] = spb['cityCenters_nearest_km'] / spb['last_price']\n",
    "\n",
    "#Средняя стоимость за киллометр в центре\n",
    "print('Средняя стоимость одного километра в центре Санкт-Петербурга:', spb['price_km_center'].mean())\n",
    "\n",
    "#Зависимость цены от расстояния до центра\n",
    "data.pivot_table(index='cityCenters_nearest_km', values='last_price').plot(figsize=(10, 5))"
   ]
  },
  {
   "cell_type": "markdown",
   "id": "8c497188",
   "metadata": {},
   "source": [
    "**Промежуточный вывод:**\n",
    "\n",
    "Видим, что стоимость квартиры ближе к центру выше и уменьшается с удалением от центра. На расстоянии 40 и 55 км. наблюдаем пики с ценой. Вероятно в этих случая на цену квартиры повлияли другие, значимые параметры."
   ]
  },
  {
   "cell_type": "markdown",
   "id": "01bd7b18",
   "metadata": {},
   "source": [
    "## <a id=\"общий-вывод\">5. Общие выводы исследования</a>"
   ]
  },
  {
   "cell_type": "markdown",
   "id": "8ffdc6ef",
   "metadata": {},
   "source": [
    "- На стоимость квартиры влияет её расположение относительно центра города\n",
    "- Цена квартиры напрямую зависит от общей площиди, площади кухни и количества комнат\n",
    "- Самая низкая цена квартир на первом этаже\n",
    "- Квартиры, размещенные в воскресенье с самой низкой ценой, а в четверг - с самой большой\n",
    "- Больше всего на рынке однокомнатных квартир\n",
    "- В октябре самые низкие цены на квартиры, в августе и декабре - самые высокие\n",
    "- Сейчас цены на квартиры ниже чем в 2014 году, но наметился тренд на увеличение цены с 2018 года\n",
    "- В феврале и марте на рынке появляется больше всего предложиний\n",
    "- В основном квартира продаётся за 124 дня. Быстра продажа - до 0 до 50 дней, но даже спустя 4 года квартиры продаются\n",
    "- Были обнаружены пропуски, которые вероятно появились из-за недочётов в формах, которые заполняет пользователь"
   ]
  }
 ],
 "metadata": {
  "kernelspec": {
   "display_name": "Python 3 (ipykernel)",
   "language": "python",
   "name": "python3"
  },
  "language_info": {
   "codemirror_mode": {
    "name": "ipython",
    "version": 3
   },
   "file_extension": ".py",
   "mimetype": "text/x-python",
   "name": "python",
   "nbconvert_exporter": "python",
   "pygments_lexer": "ipython3",
   "version": "3.9.13"
  },
  "toc": {
   "base_numbering": 1,
   "nav_menu": {},
   "number_sections": true,
   "sideBar": true,
   "skip_h1_title": true,
   "title_cell": "Table of Contents",
   "title_sidebar": "Contents",
   "toc_cell": false,
   "toc_position": {},
   "toc_section_display": true,
   "toc_window_display": false
  }
 },
 "nbformat": 4,
 "nbformat_minor": 5
}
